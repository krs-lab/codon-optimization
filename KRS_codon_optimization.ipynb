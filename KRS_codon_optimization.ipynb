{
  "nbformat": 4,
  "nbformat_minor": 0,
  "metadata": {
    "colab": {
      "provenance": [],
      "mount_file_id": "1t3rzaqOrGUVwUCl2HGApMUfyaxflO8Eg",
      "authorship_tag": "ABX9TyPMTiXie8esE4wDQ8R/6q/D",
      "include_colab_link": true
    },
    "kernelspec": {
      "name": "python3",
      "display_name": "Python 3"
    },
    "language_info": {
      "name": "python"
    },
    "widgets": {
      "application/vnd.jupyter.widget-state+json": {
        "67ee5b6ef7da474caf2cb38caed7c85a": {
          "model_module": "@jupyter-widgets/controls",
          "model_name": "TextareaModel",
          "model_module_version": "1.5.0",
          "state": {
            "_dom_classes": [],
            "_model_module": "@jupyter-widgets/controls",
            "_model_module_version": "1.5.0",
            "_model_name": "TextareaModel",
            "_view_count": null,
            "_view_module": "@jupyter-widgets/controls",
            "_view_module_version": "1.5.0",
            "_view_name": "TextareaView",
            "continuous_update": true,
            "description": "String:",
            "description_tooltip": null,
            "disabled": false,
            "layout": "IPY_MODEL_d45018168a2b4ec08ca0c738b75affb5",
            "placeholder": "Type something",
            "rows": null,
            "style": "IPY_MODEL_b1cea4e69da345b7b0d3b48c1b7ba6a9",
            "value": "MGHTLYAPGGYDIMGYLRQIRNRPNPQVELGPVDLSCALVLCDLKQKDTPVVYASEAFLEMTGYNRHEVLGRNCRFLQSPDGMVKPKSTRKYVDSNTIYTMKKAIDRNAEVQVEVVNFKKNGQRFVNFLTMIPVRDETGEYRYSIGFQCETE\n"
          }
        },
        "d45018168a2b4ec08ca0c738b75affb5": {
          "model_module": "@jupyter-widgets/base",
          "model_name": "LayoutModel",
          "model_module_version": "1.2.0",
          "state": {
            "_model_module": "@jupyter-widgets/base",
            "_model_module_version": "1.2.0",
            "_model_name": "LayoutModel",
            "_view_count": null,
            "_view_module": "@jupyter-widgets/base",
            "_view_module_version": "1.2.0",
            "_view_name": "LayoutView",
            "align_content": null,
            "align_items": null,
            "align_self": null,
            "border": null,
            "bottom": null,
            "display": null,
            "flex": null,
            "flex_flow": null,
            "grid_area": null,
            "grid_auto_columns": null,
            "grid_auto_flow": null,
            "grid_auto_rows": null,
            "grid_column": null,
            "grid_gap": null,
            "grid_row": null,
            "grid_template_areas": null,
            "grid_template_columns": null,
            "grid_template_rows": null,
            "height": null,
            "justify_content": null,
            "justify_items": null,
            "left": null,
            "margin": null,
            "max_height": null,
            "max_width": null,
            "min_height": null,
            "min_width": null,
            "object_fit": null,
            "object_position": null,
            "order": null,
            "overflow": null,
            "overflow_x": null,
            "overflow_y": null,
            "padding": null,
            "right": null,
            "top": null,
            "visibility": null,
            "width": "75%"
          }
        },
        "b1cea4e69da345b7b0d3b48c1b7ba6a9": {
          "model_module": "@jupyter-widgets/controls",
          "model_name": "DescriptionStyleModel",
          "model_module_version": "1.5.0",
          "state": {
            "_model_module": "@jupyter-widgets/controls",
            "_model_module_version": "1.5.0",
            "_model_name": "DescriptionStyleModel",
            "_view_count": null,
            "_view_module": "@jupyter-widgets/base",
            "_view_module_version": "1.2.0",
            "_view_name": "StyleView",
            "description_width": ""
          }
        },
        "5dd87921932244ab8b3bbe073f5fc379": {
          "model_module": "@jupyter-widgets/controls",
          "model_name": "TextModel",
          "model_module_version": "1.5.0",
          "state": {
            "_dom_classes": [],
            "_model_module": "@jupyter-widgets/controls",
            "_model_module_version": "1.5.0",
            "_model_name": "TextModel",
            "_view_count": null,
            "_view_module": "@jupyter-widgets/controls",
            "_view_module_version": "1.5.0",
            "_view_name": "TextView",
            "continuous_update": true,
            "description": "Filename:",
            "description_tooltip": null,
            "disabled": false,
            "layout": "IPY_MODEL_15c6f529dcae406c8bdfae874e57b0cc",
            "placeholder": "Type something",
            "style": "IPY_MODEL_1269394b0f144353b8c245943c8e22fc",
            "value": "Test_output.fas"
          }
        },
        "15c6f529dcae406c8bdfae874e57b0cc": {
          "model_module": "@jupyter-widgets/base",
          "model_name": "LayoutModel",
          "model_module_version": "1.2.0",
          "state": {
            "_model_module": "@jupyter-widgets/base",
            "_model_module_version": "1.2.0",
            "_model_name": "LayoutModel",
            "_view_count": null,
            "_view_module": "@jupyter-widgets/base",
            "_view_module_version": "1.2.0",
            "_view_name": "LayoutView",
            "align_content": null,
            "align_items": null,
            "align_self": null,
            "border": null,
            "bottom": null,
            "display": null,
            "flex": null,
            "flex_flow": null,
            "grid_area": null,
            "grid_auto_columns": null,
            "grid_auto_flow": null,
            "grid_auto_rows": null,
            "grid_column": null,
            "grid_gap": null,
            "grid_row": null,
            "grid_template_areas": null,
            "grid_template_columns": null,
            "grid_template_rows": null,
            "height": null,
            "justify_content": null,
            "justify_items": null,
            "left": null,
            "margin": null,
            "max_height": null,
            "max_width": null,
            "min_height": null,
            "min_width": null,
            "object_fit": null,
            "object_position": null,
            "order": null,
            "overflow": null,
            "overflow_x": null,
            "overflow_y": null,
            "padding": null,
            "right": null,
            "top": null,
            "visibility": null,
            "width": "50%"
          }
        },
        "1269394b0f144353b8c245943c8e22fc": {
          "model_module": "@jupyter-widgets/controls",
          "model_name": "DescriptionStyleModel",
          "model_module_version": "1.5.0",
          "state": {
            "_model_module": "@jupyter-widgets/controls",
            "_model_module_version": "1.5.0",
            "_model_name": "DescriptionStyleModel",
            "_view_count": null,
            "_view_module": "@jupyter-widgets/base",
            "_view_module_version": "1.2.0",
            "_view_name": "StyleView",
            "description_width": ""
          }
        },
        "60568c0b7f6444e5b8a7fd9e32bd04cd": {
          "model_module": "@jupyter-widgets/controls",
          "model_name": "RadioButtonsModel",
          "model_module_version": "1.5.0",
          "state": {
            "_dom_classes": [],
            "_model_module": "@jupyter-widgets/controls",
            "_model_module_version": "1.5.0",
            "_model_name": "RadioButtonsModel",
            "_options_labels": [
              "E. coli",
              "M. smegmatis"
            ],
            "_view_count": null,
            "_view_module": "@jupyter-widgets/controls",
            "_view_module_version": "1.5.0",
            "_view_name": "RadioButtonsView",
            "description": "Table:",
            "description_tooltip": null,
            "disabled": false,
            "index": 0,
            "layout": "IPY_MODEL_e885351976dc4091829000c163f4dc83",
            "style": "IPY_MODEL_267a7ba35fa8471283296f7dc930b838"
          }
        },
        "e885351976dc4091829000c163f4dc83": {
          "model_module": "@jupyter-widgets/base",
          "model_name": "LayoutModel",
          "model_module_version": "1.2.0",
          "state": {
            "_model_module": "@jupyter-widgets/base",
            "_model_module_version": "1.2.0",
            "_model_name": "LayoutModel",
            "_view_count": null,
            "_view_module": "@jupyter-widgets/base",
            "_view_module_version": "1.2.0",
            "_view_name": "LayoutView",
            "align_content": null,
            "align_items": null,
            "align_self": null,
            "border": null,
            "bottom": null,
            "display": null,
            "flex": null,
            "flex_flow": null,
            "grid_area": null,
            "grid_auto_columns": null,
            "grid_auto_flow": null,
            "grid_auto_rows": null,
            "grid_column": null,
            "grid_gap": null,
            "grid_row": null,
            "grid_template_areas": null,
            "grid_template_columns": null,
            "grid_template_rows": null,
            "height": null,
            "justify_content": null,
            "justify_items": null,
            "left": null,
            "margin": null,
            "max_height": null,
            "max_width": null,
            "min_height": null,
            "min_width": null,
            "object_fit": null,
            "object_position": null,
            "order": null,
            "overflow": null,
            "overflow_x": null,
            "overflow_y": null,
            "padding": null,
            "right": null,
            "top": null,
            "visibility": null,
            "width": null
          }
        },
        "267a7ba35fa8471283296f7dc930b838": {
          "model_module": "@jupyter-widgets/controls",
          "model_name": "DescriptionStyleModel",
          "model_module_version": "1.5.0",
          "state": {
            "_model_module": "@jupyter-widgets/controls",
            "_model_module_version": "1.5.0",
            "_model_name": "DescriptionStyleModel",
            "_view_count": null,
            "_view_module": "@jupyter-widgets/base",
            "_view_module_version": "1.2.0",
            "_view_name": "StyleView",
            "description_width": ""
          }
        }
      }
    }
  },
  "cells": [
    {
      "cell_type": "markdown",
      "metadata": {
        "id": "view-in-github",
        "colab_type": "text"
      },
      "source": [
        "<a href=\"https://colab.research.google.com/github/krs-lab/codon-optimization/blob/main/KRS_codon_optimization.ipynb\" target=\"_parent\"><img src=\"https://colab.research.google.com/assets/colab-badge.svg\" alt=\"Open In Colab\"/></a>"
      ]
    },
    {
      "cell_type": "code",
      "execution_count": null,
      "metadata": {
        "colab": {
          "base_uri": "https://localhost:8080/"
        },
        "id": "tPfZz7QFH3C6",
        "outputId": "0924e4c1-2832-4bba-e3ce-848e26d44d6c",
        "cellView": "form"
      },
      "outputs": [
        {
          "output_type": "stream",
          "name": "stdout",
          "text": [
            "/content\n",
            "drive  sample_data  Test_output.fas\n"
          ]
        }
      ],
      "source": [
        "# @title Load packages and dependencies\n",
        "### This script generates codon optimized sequences for protein expression\n",
        "### The script takes:\n",
        "###   - a FASTA formatted protein sequences\n",
        "###   - an optomized codon table for the organism of choice\n",
        "### The output is:\n",
        "###   - a FASTA formatted file with multiple codon optimized versions of the input sequence\n",
        "\n",
        "#############################\n",
        "### Here we simply import various packages\n",
        "\n",
        "### Pandas and Numpy handle data\n",
        "import pandas as pd\n",
        "import numpy as np\n",
        "import random\n",
        "\n",
        "### ipywidgets handles fancy input and output\n",
        "from ipywidgets import widgets, interact, interactive\n",
        "\n",
        "### matplotlib for plotting\n",
        "%matplotlib inline\n",
        "import matplotlib.pyplot as plt\n",
        "\n",
        "### scipy for ttest function\n",
        "from scipy import stats\n",
        "\n",
        "### re for regex functions\n",
        "import re\n",
        "\n",
        "import seaborn as sns\n",
        "sns.set_theme()\n",
        "\n",
        "!pwd\n",
        "!ls"
      ]
    },
    {
      "cell_type": "code",
      "source": [
        "# @title Which codon table should we use?\n",
        "### This defines a \"radiobutton\"\n",
        "### which allows us to select an\n",
        "### optimized codon table\n",
        "radiobutton = widgets.RadioButtons(\n",
        "    options=['E. coli', 'M. smegmatis'],\n",
        "    value='E. coli', # Default\n",
        "    description='Table:',\n",
        "    disabled=False\n",
        ")\n",
        "\n",
        "### E. coli is the default codon table used\n",
        "##codon_table_file_name = \"codon_table_coli_optimized.txt\"\n",
        "\n",
        "### Captures input and set codon table\n",
        "### Codon tables are hardcoded\n",
        "def set_choice(x):\n",
        "  global codon_table_file_name\n",
        "  if(x.new == \"E. coli\"):\n",
        "    codon_table_file_name = \"codon_table_coli_optimized.txt\"\n",
        "  if(x.new == \"M. smegmatis\"):\n",
        "    codon_table_file_name = \"codon_table_myco_optimized_for_TWIST.txt\"\n",
        "  return x.new\n",
        "\n",
        "### Event handlers...\n",
        "radiobutton.observe(set_choice,names='value')\n",
        "\n",
        "### This shows the dropdowns\n",
        "display(radiobutton)\n"
      ],
      "metadata": {
        "colab": {
          "base_uri": "https://localhost:8080/",
          "height": 81,
          "referenced_widgets": [
            "60568c0b7f6444e5b8a7fd9e32bd04cd",
            "e885351976dc4091829000c163f4dc83",
            "267a7ba35fa8471283296f7dc930b838"
          ]
        },
        "id": "zKKkUlaQK_pJ",
        "outputId": "9aa03e33-1f67-4d04-cb75-0a3dfd059be9",
        "cellView": "form"
      },
      "execution_count": null,
      "outputs": [
        {
          "output_type": "display_data",
          "data": {
            "text/plain": [
              "RadioButtons(description='Table:', options=('E. coli', 'M. smegmatis'), value='E. coli')"
            ],
            "application/vnd.jupyter.widget-view+json": {
              "version_major": 2,
              "version_minor": 0,
              "model_id": "60568c0b7f6444e5b8a7fd9e32bd04cd"
            }
          },
          "metadata": {}
        }
      ]
    },
    {
      "cell_type": "code",
      "source": [
        "# @title Import the appropriate codon table...\n",
        "### Here we read in the codon table...\n",
        "### These were originally read in from my Google Drive, but there are access issues with third party users, so I'm just hardcoding them.\n",
        "# codon_table_filehandle = open(\"/content/drive/My Drive/Perl/Gene_Synthesizer/\"+codon_table_file_name, 'r')\n",
        "\n",
        "codon_table = []\n",
        "if(codon_table_file_name == \"codon_table_coli_optimized.txt\"):\n",
        "  codon_table = [['a', ['gcg', '0.36'], ['gca', '0.21'], ['gct', '0.16'], ['gcc', '0.27']], ['r', ['cgt', '0.49'], ['cgc', '0.51']], ['d', ['gat', '0.63'], ['gac', '0.37']], ['n', ['aat', '0.45'], ['aac', '0.55']], ['c', ['tgt', '0.45'], ['tgc', '0.55']], ['g', ['ggg', '0.15'], ['gga', '0.11'], ['ggt', '0.34'], ['ggc', '0.40']], ['e', ['gag', '0.31'], ['gaa', '0.69']], ['q', ['cag', '0.65'], ['caa', '0.35']], ['h', ['cat', '0.57'], ['cac', '0.43']], ['i', ['att', '0.55'], ['atc', '0.45']], ['k', ['aag', '0.23'], ['aaa', '0.77']], ['l', ['ttg', '0.14'], ['tta', '0.14'], ['ctg', '0.52'], ['ctt', '0.10'], ['ctc', '0.10']], ['m', ['atg', '1.00']], ['f', ['ttt', '0.57'], ['ttc', '0.43']], ['p', ['ccg', '0.53'], ['cca', '0.19'], ['cct', '0.16'], ['ccc', '0.12']], ['s', ['agt', '0.15'], ['agc', '0.28'], ['tcg', '0.15'], ['tca', '0.12'], ['tct', '0.15'], ['tcc', '0.15']], ['t', ['acg', '0.27'], ['aca', '0.12'], ['act', '0.17'], ['acc', '0.44']], ['y', ['tat', '0.57'], ['tac', '0.43']], ['w', ['tgg', '1.00']], ['v', ['gtg', '0.37'], ['gta', '0.15'], ['gtt', '0.26'], ['gtc', '0.22']]]\n",
        "elif(codon_table_file_name == \"codon_table_myco_optimized_for_TWIST.txt\"):\n",
        "      codon_table = [['a', ['gcc', '0.52'], ['gcg', '0.48']], ['r', ['cgt', '0.35'], ['cgc', '0.45'], ['cgg', '0.20']], ['d', ['gat', '0.50'], ['gac', '0.50']], ['n', ['aat', '0.31'], ['aac', '0.69']], ['c', ['tgt', '0.38'], ['tgc', '0.62']], ['g', ['ggt', '0.29'], ['ggc', '0.34'], ['gga', '0.20'], ['ggg', '0.17']], ['e', ['gaa', '0.49'], ['gag', '0.51']], ['q', ['caa', '0.24'], ['cag', '0.76']], ['h', ['cat', '0.28'], ['cac', '0.72']], ['i', ['atc', '1.00']], ['k', ['aaa', '0.38'], ['aag', '0.62']], ['l', ['ctc', '0.36'], ['ctg', '0.64']], ['m', ['atg', '1.00']], ['p', ['ccc', '0.39'], ['ccg', '0.61']], ['f', ['ttc', '1.00']], ['s', ['tcc', '0.25'], ['tcg', '0.46'], ['agc', '0.29']], ['t', ['acc', '0.65'], ['acg', '0.35']], ['v', ['gtc', '0.47'], ['gtg', '0.53']], ['w', ['tgg', '1.00']], ['y', ['tat', '0.35'], ['tac', '0.65']]]\n",
        "else:\n",
        "    print(\"ERROR\")\n",
        "\n",
        "#for line in codon_table_filehandle:\n",
        "#  line = line.lower().rstrip()\n",
        "#  #print(line)\n",
        "#  #print(\"match_test:\", re.fullmatch('^[acdefghiklmnpqrstvwy]\\s*$',line))\n",
        "#  if re.fullmatch('^[acdefghiklmnpqrstvwy]\\s*$',line):\n",
        "#    #print(\"in if, line is \",line)\n",
        "#    ## new column in array\n",
        "#    codon_table.append([line])\n",
        "#  else:\n",
        "#    match_result = re.fullmatch(\"^([autgc]{3}) (\\d.\\d{2})$\", line)\n",
        "#    if match_result:\n",
        "#      codon = match_result.group(1)\n",
        "#      codon = re.sub(\"u\",\"t\",codon)\n",
        "#      freq = match_result.group(2)\n",
        "#      ## push this into codon and freq into element of array\n",
        "#      (codon_table[-1]).append([codon,freq])\n",
        "\n",
        "print(codon_table)\n"
      ],
      "metadata": {
        "id": "BIlJpYRa2g8F",
        "colab": {
          "base_uri": "https://localhost:8080/"
        },
        "outputId": "9c3137da-66b9-4594-dfd0-da007dfe5def",
        "cellView": "form"
      },
      "execution_count": null,
      "outputs": [
        {
          "output_type": "stream",
          "name": "stdout",
          "text": [
            "[['a', ['gcg', '0.36'], ['gca', '0.21'], ['gct', '0.16'], ['gcc', '0.27']], ['r', ['cgt', '0.49'], ['cgc', '0.51']], ['d', ['gat', '0.63'], ['gac', '0.37']], ['n', ['aat', '0.45'], ['aac', '0.55']], ['c', ['tgt', '0.45'], ['tgc', '0.55']], ['g', ['ggg', '0.15'], ['gga', '0.11'], ['ggt', '0.34'], ['ggc', '0.40']], ['e', ['gag', '0.31'], ['gaa', '0.69']], ['q', ['cag', '0.65'], ['caa', '0.35']], ['h', ['cat', '0.57'], ['cac', '0.43']], ['i', ['att', '0.55'], ['atc', '0.45']], ['k', ['aag', '0.23'], ['aaa', '0.77']], ['l', ['ttg', '0.14'], ['tta', '0.14'], ['ctg', '0.52'], ['ctt', '0.10'], ['ctc', '0.10']], ['m', ['atg', '1.00']], ['f', ['ttt', '0.57'], ['ttc', '0.43']], ['p', ['ccg', '0.53'], ['cca', '0.19'], ['cct', '0.16'], ['ccc', '0.12']], ['s', ['agt', '0.15'], ['agc', '0.28'], ['tcg', '0.15'], ['tca', '0.12'], ['tct', '0.15'], ['tcc', '0.15']], ['t', ['acg', '0.27'], ['aca', '0.12'], ['act', '0.17'], ['acc', '0.44']], ['y', ['tat', '0.57'], ['tac', '0.43']], ['w', ['tgg', '1.00']], ['v', ['gtg', '0.37'], ['gta', '0.15'], ['gtt', '0.26'], ['gtc', '0.22']]]\n"
          ]
        }
      ]
    },
    {
      "cell_type": "code",
      "source": [
        "# @title Enter the protein sequence we're going to codon optimize.\n",
        "### Now we create a prompt to copy in the sequence in a textarea box\n",
        "\n",
        "fasta_sequence = widgets.Textarea(\n",
        "    value='',\n",
        "    layout= widgets.Layout(width='75%'),\n",
        "    placeholder='Type something',\n",
        "    description='String:',\n",
        "    disabled=False\n",
        ")\n",
        "\n",
        "fasta_raw_text = \"\"\n",
        "\n",
        "def on_change(text):\n",
        "  fasta_raw_text = text.new\n",
        "  #print(fasta_raw_text)\n",
        "  return text.new\n",
        "\n",
        "### Event handlers...\n",
        "fasta_sequence.observe(on_change,names='value')\n",
        "\n",
        "### This shows the text field\n",
        "display(fasta_sequence)\n",
        "\n",
        "### The upshot of this is that whever you pasted in will be recorded as \"fasta_raw_text\"\n",
        "### presumably in FASTA format\n",
        "### but, regardless, we'll strip the header line if present\n"
      ],
      "metadata": {
        "id": "Ub5LyOgjIet7",
        "colab": {
          "base_uri": "https://localhost:8080/",
          "height": 62,
          "referenced_widgets": [
            "67ee5b6ef7da474caf2cb38caed7c85a",
            "d45018168a2b4ec08ca0c738b75affb5",
            "b1cea4e69da345b7b0d3b48c1b7ba6a9"
          ]
        },
        "outputId": "e1add2a6-f59d-4a66-d52a-de089367f768",
        "cellView": "form"
      },
      "execution_count": null,
      "outputs": [
        {
          "output_type": "display_data",
          "data": {
            "text/plain": [
              "Textarea(value='', description='String:', layout=Layout(width='75%'), placeholder='Type something')"
            ],
            "application/vnd.jupyter.widget-view+json": {
              "version_major": 2,
              "version_minor": 0,
              "model_id": "67ee5b6ef7da474caf2cb38caed7c85a"
            }
          },
          "metadata": {}
        }
      ]
    },
    {
      "cell_type": "code",
      "source": [
        "# @title Digest protein sequence and generate 10 codon optimized DNA sequences.\n",
        "fasta_raw_text = fasta_sequence.value\n",
        "\n",
        "### digest the input sequence\n",
        "### ignore a first line starting with a >\n",
        "### otherwise add to growing sequence\n",
        "protein_sequence = \"\"\n",
        "\n",
        "for seq_line in fasta_raw_text.splitlines():\n",
        "  if re.fullmatch(\"^>.+$\",seq_line):\n",
        "    pass\n",
        "  else:\n",
        "    protein_sequence = protein_sequence+seq_line.lower().rstrip()\n",
        "\n",
        "print(\"Digested protein sequence is:\",protein_sequence)\n",
        "\n",
        "gene_sequences = [\"\"]*10\n",
        "aa = \"\"\n",
        "num_codons = 0\n",
        "rand_num = 0\n",
        "\n",
        "for x in range(len(gene_sequences)):\n",
        "  for i in range(len(protein_sequence)):\n",
        "    aa = protein_sequence[i]\n",
        "    ## find this aa in the codon table\n",
        "    for row in codon_table:\n",
        "      if(aa == row[0]):\n",
        "        ## Ok! We found our codon\n",
        "        ## How many codons does it have?\n",
        "        num_codons = (len(row) - 1)\n",
        "        #print(\"For\",aa,\"we found this many codons:\",num_codons)\n",
        "        ## generate a random number between 0 and 1\n",
        "        rand_num = random.random()\n",
        "        moving_max = 0\n",
        "        ## the bit below was used to double check that this works\n",
        "        #for j in range(num_codons):\n",
        "        #  print(row[j+1][0],row[j+1][1], end =\" \")\n",
        "        #print(\"\")\n",
        "        for j in range(num_codons):\n",
        "          moving_min = moving_max\n",
        "          moving_max = moving_max + float(row[j+1][1])\n",
        "          if((rand_num > moving_min) and (rand_num < moving_max)):\n",
        "            #print(\"For\",aa,\"we chose\",row[j+1][0],\", given rand of\",rand_num)\n",
        "            gene_sequences[x] = gene_sequences[x]+row[j+1][0]\n",
        "\n",
        "for x in range(len(gene_sequences)):\n",
        "  print(\"Final gene sequence\",x,gene_sequences[x])\n"
      ],
      "metadata": {
        "id": "BaiExM1_Kw7f",
        "colab": {
          "base_uri": "https://localhost:8080/"
        },
        "outputId": "ef583988-5537-4c75-af55-b8356a204b6f",
        "cellView": "form"
      },
      "execution_count": null,
      "outputs": [
        {
          "output_type": "stream",
          "name": "stdout",
          "text": [
            "Digested protein sequence is: mghtlyapggydimgylrqirnrpnpqvelgpvdlscalvlcdlkqkdtpvvyaseaflemtgynrhevlgrncrflqspdgmvkpkstrkyvdsntiytmkkaidrnaevqvevvnfkkngqrfvnfltmipvrdetgeyrysigfqcete\n",
            "Final gene sequence 0 atgggccataccctgtacgcaccaggtggatacgacattatggggtatctgcgccagatccgcaaccgcccgaacccccaggttgagctgggtcctgtggatctcagttgcgcgttggtattgtgtgatctgaaacagaaagataccccagttgtgtatgcctccgaagcgttcctcgaaatgacgggttacaatcgccatgaagttctgggccgtaattgccgtttcctccagagtccggacgggatggtgaaaccgaaaagtacccgtaagtacgttgattctaacaccatttacaccatgaaaaaagcgattgaccgtaatgcagaggttcaagtggaagttgtcaattttaaaaagaacggccagcgcttcgtcaattttctgactatgatccccgtgcgcgacgaaactggtgagtatcgctactctatcggctttcagtgcgaaactgaa\n",
            "Final gene sequence 1 atgggccacaccctttatgcacccgggggatacgacatcatgggttatttacgccagattcgtaaccgcccaaacccacaggtagaactggggccggtggacttaagttgtgcattagtgttgtgcgacttaaaacagaaagacacgccagtggtgtatgcctccgaagccttcttggagatgaccgggtataaccgccatgaagtgctgggtcgtaattgtcgttttctgcagtccccggatggtatggttaaaccaaaaagcacccgcaagtacgttgattccaacaccatctataccatgaaaaaagctatcgatcgcaacgctgaggtccaggtcgaggtggttaattttaaaaaaaatggacagcgtttcgtaaactttctgaccatgattccggttcgcgatgagaccggcgaataccgttattctatcggctttcagtgcgaaactgaa\n",
            "Final gene sequence 2 atgggtcacaccctgtacgcgccgggcggttatgacatcatgggatacctccgccagattcgcaatcgtccaaacccgcaggttgaactgggcccggtggaccttagctgtgcgttagtgttatgcgatttaaagcagaaagatacgccagtagtgtatgcgagcgaggcattcttggaaatgaccggctataatcgtcatgaggtgctgggccgtaattgccgctttctgcaaagcccggatggcatggtgaaacctaaatctacccgtaaatacgtagattctaacaccatttataccatgaaaaaagcgatcgatcgcaatgcggaagtgcaggtggaagtggttaatttcaagaaaaatggccagcgctttgtaaactttctgacgatgatccctgtacgtgacgaaacgggtgaatatcgctactcgatcggctttcagtgtgagactgaa\n",
            "Final gene sequence 3 atgggccacaccctgtacgcgccaggtgggtatgatatcatgggctacctgcgtcagattcgcaaccgtccgaacccgcaagtagaactggggccggtggacttgtcttgcgcgttagttttatgcgacctgaaacaaaaagataccccggtcgtgtacgcgtctgaagcattcctcgagatgaccggatataatcgccatgaggtactggggcgtaattgtcgtttcctgcagagtccagatggtatggtgaaacccaagagcacgcgtaagtacgttgattccaacacaatttataccatgaaaaaagccatcgatcgcaatgcggaggttcaggttgaggtggtgaatttcaaaaaaaacggtcaacgctttgttaacttcctgacgatgattcctgtgcgtgacgaaacgggcgaataccgctatagcatcggcttccaatgtgaaacagag\n",
            "Final gene sequence 4 atgggccatactttatatgcacctggcggctacgacatcatgggctacctccgtcagatccgtaaccgcccaaatccgcaagtagaattagggccggtggatctgtcgtgtgctttggtgctgtgcgatttgaagcagaaagataccccagttgtgtatgcttccgaagcattcttagaaatgaccggctataaccgccatgaagtcctcggtcgcaactgccgttttcttcaaagccctgatggcatggtgaaaccgaaatccacccgtaaatatgtcgattcgaataccatttacacgatgaaaaaagcgattgatcgcaacgccgaagttcaagttgaagtggtgaattttaagaagaacggtcaacgcttcgttaatttcctcactatgatccccgtccgtgatgagaccggcgagtatcgctattcgattggctttcagtgcgaaaccgag\n",
            "Final gene sequence 5 atgggacataccctgtatgcgcctgggggttatgatattatgggttatttgcgccagattcgtaatcgcccgaacccgcaagtggagctgggtccggtagatctgtcctgtgctctcgtgttatgcgatctcaaacagaaagacacccctgtcgtctacgccagcgaagccttcctcgaaatgacgggctacaaccgccatgaggtgctcgggcgtaactgccgttttctgcagagcccggacggcatggtgaaaccaaagtcaacccgcaagtatgtggactcaaataccatctatacgatgaagaaggcgatcgaccgtaacgccgaggtgcaagtcgaagtggtgaactttaaaaaaaatggccagcgttttgttaatttcctgactatgattccggttcgcgacgagactggagaataccgctacagtatcggttttcaatgcgagaccgaa\n",
            "Final gene sequence 6 atgggtcatacgctctacgcgccgggcggctatgacattatgggctatttacgccaaatccgtaaccgtccgaatccgcaagttgaactgggccctgtcgacttgagctgtgcactggtgctgtgcgacttaaaacaaaaagatacgccagtcgtttacgcctcagaagcgtttctggaaatgaccggatataaccgtcatgaggtgttgggtcgcaactgccgtttcctgcagtctccggacggcatggttaaacccaaaagcacccgcaaatatgtcgatagtaatacgatttatactatgaaaaaagctattgatcgcaatgcggaagtgcaggtcgaggtcgttaatttcaaaaagaacggtcaacgctttgtgaatttcctgacgatgatcccggtccgtgatgaaactggagagtaccgctactctattgggttccaatgcgagacagaa\n",
            "Final gene sequence 7 atgggtcatacgctttacgcacctggcggttacgatattatgggttacttgcgccaaattcgcaaccgcccgaatccacaggttgaacttggaccagtcgatctgagctgcgcactggttctgtgcgacctgaagcagaaggatactccggtggtttatgcgtctgaagcatttctggagatgaccggctacaatcgtcacgaagtgctggggcgtaactgtcgttttctccaatcgccggatggcatggtaaagccgaaaagtacgcgtaaatatgtggattcaaacaccatttacaccatgaaaaaagccattgaccgtaacgccgaagtccaggttgaagtcgtgaacttcaaaaagaatggccaacgctttgtcaattttctgacgatgattccggtgcgcgacgagacgggtgagtatcgttactctattggctttcagtgtgagacggaa\n",
            "Final gene sequence 8 atgggccacaccttatatgccccgggcggctatgatattatggggtatctgcgccagattcgtaatcgccctaacccgcaagtcgaactgggtccggtagatttaagttgcgcattggtgttgtgcgacttgaagcagaaagatactccggtagtgtatgcctccgaagcgtttctggaaatgaccggctacaatcgccatgaggttctcgggcgtaactgccgttttttgcaaagcccggatggcatggtcaaaccgaaaagcacccgtaaatatgtagactcaaatacgatttacaccatgaaaaaagccatcgaccgcaacgcagaagtccaggttgaagtggttaactttaaaaaaaacggccaacgctttgttaattttttaaccatgatccccgtgcgcgacgagacgggtgaatatcgctattccattgggttccagtgcgagaccgaa\n",
            "Final gene sequence 9 atgggtcatactctgtacgctcctggcggctacgatatcatgggctacctgcgccaaattcgtaatcgcccgaatccccaggtcgaactcggcccggtggaccttagctgtgccttagtgctttgcgatctcaaacaaaaagatacaccagtggtgtacgcaagcgaagcattcctggaaatgactggttacaaccgtcacgaagtcctcggccgtaactgccgttttctgcaaagtccagatgggatggtcaagccgaagagcactcgcaaatacgttgattctaacaccatttacactatgaaaaaagcgattgatcgcaacgcagaagtccaggtagaagtcgtaaatttcaaaaaaaacggccagcgcttcgtaaattttctgaccatgatcccggtgcgtgacgagacgggtgaatatcgttatagcattggctttcaatgtgaaaccgag\n"
          ]
        }
      ]
    },
    {
      "cell_type": "code",
      "source": [
        "# @title Set filename for output.\n",
        "### Lets get a filename from the user for the output...\n",
        "\n",
        "print(\"Please provide a filename for the output FASTA file:\")\n",
        "\n",
        "filename_box = widgets.Text(\n",
        "    value='',\n",
        "    layout= widgets.Layout(width='50%'),\n",
        "    placeholder='Type something',\n",
        "    description='Filename:',\n",
        "    disabled=False\n",
        ")\n",
        "\n",
        "output_filename = \"\"\n",
        "\n",
        "def on_change(text):\n",
        "  output_filename = text.new\n",
        "  #print(fasta_raw_text)\n",
        "  return text.new\n",
        "\n",
        "### Event handlers...\n",
        "filename_box.observe(on_change,names='value')\n",
        "\n",
        "### This shows the text field\n",
        "display(filename_box)\n",
        "\n",
        "### The upshot of this is that whever you pasted in will be recorded as \"fasta_raw_text\"\n",
        "### presumably in FASTA format\n",
        "### but, regardless, we'll strip the header line if present"
      ],
      "metadata": {
        "colab": {
          "base_uri": "https://localhost:8080/",
          "height": 66,
          "referenced_widgets": [
            "5dd87921932244ab8b3bbe073f5fc379",
            "15c6f529dcae406c8bdfae874e57b0cc",
            "1269394b0f144353b8c245943c8e22fc"
          ]
        },
        "id": "L96aNCJfZMhX",
        "outputId": "ff9c4452-8417-4a34-dfa3-84059613b623"
      },
      "execution_count": null,
      "outputs": [
        {
          "output_type": "stream",
          "name": "stdout",
          "text": [
            "Please provide a filename for the output FASTA file:\n"
          ]
        },
        {
          "output_type": "display_data",
          "data": {
            "text/plain": [
              "Text(value='', description='Filename:', layout=Layout(width='50%'), placeholder='Type something')"
            ],
            "application/vnd.jupyter.widget-view+json": {
              "version_major": 2,
              "version_minor": 0,
              "model_id": "5dd87921932244ab8b3bbe073f5fc379"
            }
          },
          "metadata": {}
        }
      ]
    },
    {
      "cell_type": "code",
      "source": [
        "# @title Download output.\n",
        "### Create output file\n",
        "with open(filename_box.value, mode='w') as fasta_file_object:\n",
        "  for x in range(len(gene_sequences)):\n",
        "    print(\">sequence_\",x,\"\\n\",gene_sequences[x],file = fasta_file_object)\n",
        "\n",
        "fasta_file_object.close()\n",
        "\n",
        "print(\"Expand the File folder menu to the left and you will find the output fasta file.\")"
      ],
      "metadata": {
        "id": "ij8XqWvRa5Uy",
        "colab": {
          "base_uri": "https://localhost:8080/",
          "height": 211
        },
        "outputId": "36a30ce1-f9fc-4273-d6c1-3ea321fec56d",
        "cellView": "form"
      },
      "execution_count": 1,
      "outputs": [
        {
          "output_type": "error",
          "ename": "NameError",
          "evalue": "name 'filename_box' is not defined",
          "traceback": [
            "\u001b[0;31m---------------------------------------------------------------------------\u001b[0m",
            "\u001b[0;31mNameError\u001b[0m                                 Traceback (most recent call last)",
            "\u001b[0;32m<ipython-input-1-ab5ed3c8c961>\u001b[0m in \u001b[0;36m<cell line: 1>\u001b[0;34m()\u001b[0m\n\u001b[0;32m----> 1\u001b[0;31m \u001b[0;32mwith\u001b[0m \u001b[0mopen\u001b[0m\u001b[0;34m(\u001b[0m\u001b[0mfilename_box\u001b[0m\u001b[0;34m.\u001b[0m\u001b[0mvalue\u001b[0m\u001b[0;34m,\u001b[0m \u001b[0mmode\u001b[0m\u001b[0;34m=\u001b[0m\u001b[0;34m'w'\u001b[0m\u001b[0;34m)\u001b[0m \u001b[0;32mas\u001b[0m \u001b[0mfasta_file_object\u001b[0m\u001b[0;34m:\u001b[0m\u001b[0;34m\u001b[0m\u001b[0;34m\u001b[0m\u001b[0m\n\u001b[0m\u001b[1;32m      2\u001b[0m   \u001b[0;32mfor\u001b[0m \u001b[0mx\u001b[0m \u001b[0;32min\u001b[0m \u001b[0mrange\u001b[0m\u001b[0;34m(\u001b[0m\u001b[0mlen\u001b[0m\u001b[0;34m(\u001b[0m\u001b[0mgene_sequences\u001b[0m\u001b[0;34m)\u001b[0m\u001b[0;34m)\u001b[0m\u001b[0;34m:\u001b[0m\u001b[0;34m\u001b[0m\u001b[0;34m\u001b[0m\u001b[0m\n\u001b[1;32m      3\u001b[0m     \u001b[0mprint\u001b[0m\u001b[0;34m(\u001b[0m\u001b[0;34m\">sequence_\"\u001b[0m\u001b[0;34m,\u001b[0m\u001b[0mx\u001b[0m\u001b[0;34m,\u001b[0m\u001b[0;34m\"\\n\"\u001b[0m\u001b[0;34m,\u001b[0m\u001b[0mgene_sequences\u001b[0m\u001b[0;34m[\u001b[0m\u001b[0mx\u001b[0m\u001b[0;34m]\u001b[0m\u001b[0;34m,\u001b[0m\u001b[0mfile\u001b[0m \u001b[0;34m=\u001b[0m \u001b[0mfasta_file_object\u001b[0m\u001b[0;34m)\u001b[0m\u001b[0;34m\u001b[0m\u001b[0;34m\u001b[0m\u001b[0m\n\u001b[1;32m      4\u001b[0m \u001b[0;34m\u001b[0m\u001b[0m\n\u001b[1;32m      5\u001b[0m \u001b[0mfasta_file_object\u001b[0m\u001b[0;34m.\u001b[0m\u001b[0mclose\u001b[0m\u001b[0;34m(\u001b[0m\u001b[0;34m)\u001b[0m\u001b[0;34m\u001b[0m\u001b[0;34m\u001b[0m\u001b[0m\n",
            "\u001b[0;31mNameError\u001b[0m: name 'filename_box' is not defined"
          ]
        }
      ]
    }
  ]
}